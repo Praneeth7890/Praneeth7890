{
  "nbformat": 4,
  "nbformat_minor": 0,
  "metadata": {
    "colab": {
      "name": "functions.ipynb",
      "provenance": [],
      "authorship_tag": "ABX9TyPDHur4AZo0cNey8NJlRBx3",
      "include_colab_link": true
    },
    "kernelspec": {
      "name": "python3",
      "display_name": "Python 3"
    },
    "language_info": {
      "name": "python"
    }
  },
  "cells": [
    {
      "cell_type": "markdown",
      "metadata": {
        "id": "view-in-github",
        "colab_type": "text"
      },
      "source": [
        "<a href=\"https://colab.research.google.com/github/Praneeth7890/Praneeth7890/blob/main/functions.ipynb\" target=\"_parent\"><img src=\"https://colab.research.google.com/assets/colab-badge.svg\" alt=\"Open In Colab\"/></a>"
      ]
    },
    {
      "cell_type": "code",
      "source": [
        "#Calling a Function\n",
        "def x():\n",
        "  print(\"praneeth chowdary\")\n",
        "  \n",
        "x()"
      ],
      "metadata": {
        "colab": {
          "base_uri": "https://localhost:8080/"
        },
        "id": "vT3jok6gO0B-",
        "outputId": "e22ac253-7625-4721-c15b-0c78474f6b4d"
      },
      "execution_count": null,
      "outputs": [
        {
          "output_type": "stream",
          "name": "stdout",
          "text": [
            "praneeth chowdary\n"
          ]
        }
      ]
    },
    {
      "cell_type": "code",
      "execution_count": null,
      "metadata": {
        "colab": {
          "base_uri": "https://localhost:8080/"
        },
        "id": "Cr5lMD_VM3Cq",
        "outputId": "721d2272-76f0-4b38-a966-0415fadf6957"
      },
      "outputs": [
        {
          "output_type": "stream",
          "name": "stdout",
          "text": [
            "praneeth gitam\n",
            "yaswanth gitam\n",
            "sai krishna gitam\n"
          ]
        }
      ],
      "source": [
        "#Arguments\n",
        "def x(fname):\n",
        "  print(fname+\"gitam\")\n",
        "  \n",
        "x(\"praneeth \")\n",
        "x(\"yaswanth \")\n",
        "x(\"sai krishna \")"
      ]
    },
    {
      "cell_type": "code",
      "source": [
        "#This function expects 2 arguments, and gets 2 arguments\n",
        "def x(fname,lname):\n",
        "  print(fname+\" \"+lname)\n",
        "  \n",
        "x(\"praneeth\",\"chowdary\")"
      ],
      "metadata": {
        "colab": {
          "base_uri": "https://localhost:8080/"
        },
        "id": "pBRvfz_XOzBo",
        "outputId": "94c4f6d8-1440-4e71-9c76-4b12908174aa"
      },
      "execution_count": null,
      "outputs": [
        {
          "output_type": "stream",
          "name": "stdout",
          "text": [
            "praneeth chowdary\n"
          ]
        }
      ]
    },
    {
      "cell_type": "code",
      "source": [
        "#add a *,If the number of arguments is unknown\n",
        "def x(*students):\n",
        "  print(\"the topper in the class is \"+students[2])\n",
        "  \n",
        "x(\"rahul\",\"praneeth\",\"saikrishna\")"
      ],
      "metadata": {
        "colab": {
          "base_uri": "https://localhost:8080/"
        },
        "id": "fGdaiTwJOWJe",
        "outputId": "1d0406de-2793-4210-d64c-44e68b8ec787"
      },
      "execution_count": null,
      "outputs": [
        {
          "output_type": "stream",
          "name": "stdout",
          "text": [
            "the topper in the class is saikrishna\n"
          ]
        }
      ]
    },
    {
      "cell_type": "code",
      "source": [
        "#way the order of the arguments does not matter\n",
        "def x(stu1,stu2,stu3):\n",
        "  print(\"Waste fellow in the class is \"+stu2)\n",
        "  \n",
        "x(stu1=\"praneeth\",stu2=\"sai krishna\",stu3=\"seshu\")"
      ],
      "metadata": {
        "colab": {
          "base_uri": "https://localhost:8080/"
        },
        "id": "rrSp03wtVY9_",
        "outputId": "31a3ba6c-5e81-488f-aae9-62089b925f4d"
      },
      "execution_count": null,
      "outputs": [
        {
          "output_type": "stream",
          "name": "stdout",
          "text": [
            "Waste fellow in the class is sai krishna\n"
          ]
        }
      ]
    },
    {
      "cell_type": "code",
      "source": [
        "#Arbitrary Keyword Arguments, **kwargs\n",
        "def x(**student):\n",
        "  print(\"the topper in the class is \" +  student[\"lname\"])\n",
        "x(fname= \"praneeth\",lname= \"sai krishna\")"
      ],
      "metadata": {
        "colab": {
          "base_uri": "https://localhost:8080/"
        },
        "id": "HGAEvcdVWlTt",
        "outputId": "44769a9d-a025-4800-bb19-579926a73a14"
      },
      "execution_count": null,
      "outputs": [
        {
          "output_type": "stream",
          "name": "stdout",
          "text": [
            "the topper in the class is sai krishna\n"
          ]
        }
      ]
    },
    {
      "cell_type": "code",
      "source": [
        "#Default Parameter Value\n",
        "def x(state=\"Andhra pradesh\"):\n",
        "  print(\"I am from \"+state)\n",
        "  \n",
        "x(\"telangana\")\n",
        "x(\"kerala\")\n",
        "x()\n",
        "x(\"tamilnadu\")"
      ],
      "metadata": {
        "colab": {
          "base_uri": "https://localhost:8080/"
        },
        "id": "5AMaE-NcZLFf",
        "outputId": "daab813b-9ec6-4391-e39c-7ab0d37318e7"
      },
      "execution_count": null,
      "outputs": [
        {
          "output_type": "stream",
          "name": "stdout",
          "text": [
            "I am from telangana\n",
            "I am from kerala\n",
            "I am from Andhra pradesh\n",
            "I am from tamilnadu\n"
          ]
        }
      ]
    },
    {
      "cell_type": "code",
      "source": [
        "#Passing a List as an Argument\n",
        "def x(drinks):\n",
        "  for x in drinks:\n",
        "    print(x)\n",
        "\n",
        "drinks=(\"magic moments\",\"mansionhouse\",\"absoulte\")\n",
        "x(drinks)\n"
      ],
      "metadata": {
        "colab": {
          "base_uri": "https://localhost:8080/"
        },
        "id": "Ctft5CQ9atSv",
        "outputId": "4acffb4e-a65c-4642-9fa0-40fda51facf7"
      },
      "execution_count": null,
      "outputs": [
        {
          "output_type": "stream",
          "name": "stdout",
          "text": [
            "magic moments\n",
            "mansionhouse\n",
            "absoulte\n"
          ]
        }
      ]
    },
    {
      "cell_type": "code",
      "source": [
        "#Return Values\n",
        "def x(x):\n",
        "  return 6*x\n",
        "  \n",
        "print(x(4))\n",
        "print(x(7))\n",
        "print(x(4))\n",
        "print(x(8))\n",
        "print(x(2))\n"
      ],
      "metadata": {
        "colab": {
          "base_uri": "https://localhost:8080/"
        },
        "id": "MIZg0H-IcRQ-",
        "outputId": "15f52be1-70ee-4f2b-ca86-72216b0f0aeb"
      },
      "execution_count": null,
      "outputs": [
        {
          "output_type": "stream",
          "name": "stdout",
          "text": [
            "24\n",
            "42\n",
            "24\n",
            "48\n",
            "12\n"
          ]
        }
      ]
    },
    {
      "cell_type": "code",
      "source": [
        "#The pass Statement\n",
        "def x():\n",
        "  pass\n"
      ],
      "metadata": {
        "id": "F5lld8kcdRhd"
      },
      "execution_count": null,
      "outputs": []
    },
    {
      "cell_type": "code",
      "source": [
        ""
      ],
      "metadata": {
        "id": "1nrqU4qse4hN"
      },
      "execution_count": null,
      "outputs": []
    }
  ]
}