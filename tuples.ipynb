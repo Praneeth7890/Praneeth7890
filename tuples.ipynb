{
  "nbformat": 4,
  "nbformat_minor": 0,
  "metadata": {
    "colab": {
      "name": "tuples.ipynb",
      "provenance": [],
      "collapsed_sections": [],
      "authorship_tag": "ABX9TyP70VWWQFgFssH09g1+FxsK",
      "include_colab_link": true
    },
    "kernelspec": {
      "name": "python3",
      "display_name": "Python 3"
    },
    "language_info": {
      "name": "python"
    }
  },
  "cells": [
    {
      "cell_type": "markdown",
      "metadata": {
        "id": "view-in-github",
        "colab_type": "text"
      },
      "source": [
        "<a href=\"https://colab.research.google.com/github/Praneeth7890/Praneeth7890/blob/main/tuples.ipynb\" target=\"_parent\"><img src=\"https://colab.research.google.com/assets/colab-badge.svg\" alt=\"Open In Colab\"/></a>"
      ]
    },
    {
      "cell_type": "markdown",
      "source": [
        "tuple"
      ],
      "metadata": {
        "id": "QVrS-P7LZMID"
      }
    },
    {
      "cell_type": "code",
      "source": [
        "x=(\"praneeth\",\"sai krishna\",\"seshu\")\n",
        "print(x)"
      ],
      "metadata": {
        "colab": {
          "base_uri": "https://localhost:8080/"
        },
        "id": "XiyicK-NZRlX",
        "outputId": "79e20aca-07aa-4178-d022-48ee224d25c1"
      },
      "execution_count": null,
      "outputs": [
        {
          "output_type": "stream",
          "name": "stdout",
          "text": [
            "('praneeth', 'sai krishna', 'seshu')\n"
          ]
        }
      ]
    },
    {
      "cell_type": "code",
      "source": [
        "#duplicate value allows\n",
        "x=(\"praneeth\",\"sai krishna\",\"praneeth\",\"ashok\")\n",
        "print(x)"
      ],
      "metadata": {
        "colab": {
          "base_uri": "https://localhost:8080/"
        },
        "id": "6ELonGqmaG5X",
        "outputId": "bf79598d-306c-4f6f-8178-f5d6f0702b8e"
      },
      "execution_count": null,
      "outputs": [
        {
          "output_type": "stream",
          "name": "stdout",
          "text": [
            "('praneeth', 'sai krishna', 'praneeth', 'ashok')\n"
          ]
        }
      ]
    },
    {
      "cell_type": "code",
      "source": [
        "#tuple length\n",
        "x=(\"praneeth\",\"saikrishna\",\"ashok\")\n",
        "print(len(x))"
      ],
      "metadata": {
        "colab": {
          "base_uri": "https://localhost:8080/"
        },
        "id": "tNB5dAbqbRSw",
        "outputId": "8f30ef2e-ac31-4344-99b9-5e1805711d86"
      },
      "execution_count": null,
      "outputs": [
        {
          "output_type": "stream",
          "name": "stdout",
          "text": [
            "3\n"
          ]
        }
      ]
    },
    {
      "cell_type": "code",
      "source": [
        "#type of tuple\n",
        "x=(\"praneeth\",)\n",
        "print(type(x))\n",
        "\n",
        "x=(\"praneeth\")\n",
        "print(type(x))"
      ],
      "metadata": {
        "colab": {
          "base_uri": "https://localhost:8080/"
        },
        "id": "f_WvrBIGbcEG",
        "outputId": "54d04122-e233-4486-c016-17cbb9af0444"
      },
      "execution_count": null,
      "outputs": [
        {
          "output_type": "stream",
          "name": "stdout",
          "text": [
            "<class 'tuple'>\n",
            "<class 'str'>\n"
          ]
        }
      ]
    },
    {
      "cell_type": "code",
      "source": [
        "#data types\n",
        "x = (\"praneeth\", \"seshu\", \"sai krishna\")\n",
        "y = (1, 5, 7, 9, 3)\n",
        "z = (True, False, False)\n",
        "\n",
        "print(x)\n",
        "print(y)\n",
        "print(z)\n"
      ],
      "metadata": {
        "colab": {
          "base_uri": "https://localhost:8080/"
        },
        "id": "nj4emE5ocCKW",
        "outputId": "0addcfcb-5362-43c0-a0ee-62d21f68fc00"
      },
      "execution_count": null,
      "outputs": [
        {
          "output_type": "stream",
          "name": "stdout",
          "text": [
            "('praneeth', 'seshu', 'sai krishna')\n",
            "(1, 5, 7, 9, 3)\n",
            "(True, False, False)\n"
          ]
        }
      ]
    },
    {
      "cell_type": "code",
      "source": [
        "x=(\"praneeth\",\"19\",\"male\")\n",
        "print(x)\n"
      ],
      "metadata": {
        "id": "FOExjGoUdW6W",
        "colab": {
          "base_uri": "https://localhost:8080/"
        },
        "outputId": "579e452b-ed35-422b-bfb1-0c9c6d88dd31"
      },
      "execution_count": 1,
      "outputs": [
        {
          "output_type": "stream",
          "name": "stdout",
          "text": [
            "('praneeth', '19', 'male')\n"
          ]
        }
      ]
    },
    {
      "cell_type": "code",
      "source": [
        "#acess tuple items\n",
        "x=(\"praneeth\",\"rahul\",\"yaswanth\")\n",
        "print(x[1])"
      ],
      "metadata": {
        "colab": {
          "base_uri": "https://localhost:8080/"
        },
        "id": "FwTQZoCrwlXX",
        "outputId": "4d7a9d5d-14b8-46e8-b8b7-b21a075eaa28"
      },
      "execution_count": 7,
      "outputs": [
        {
          "output_type": "stream",
          "name": "stdout",
          "text": [
            "rahul\n"
          ]
        }
      ]
    },
    {
      "cell_type": "code",
      "source": [
        "# negative indexing\n",
        "x=(\"praneeth\",\"rahul\",\"yaswanth\")\n",
        "print(x[-2])"
      ],
      "metadata": {
        "colab": {
          "base_uri": "https://localhost:8080/"
        },
        "id": "P6GgjDCQxdt6",
        "outputId": "5768fe11-0b13-485c-bc3f-f70bf816e359"
      },
      "execution_count": 8,
      "outputs": [
        {
          "output_type": "stream",
          "name": "stdout",
          "text": [
            "rahul\n"
          ]
        }
      ]
    },
    {
      "cell_type": "code",
      "source": [
        "#range of indexes\n",
        "x=(\"praneeth\",\"yaswanth\",\"rahul\",\"manish\",\"bhanu\",\"mohith\")\n",
        "print(x[1:4])"
      ],
      "metadata": {
        "colab": {
          "base_uri": "https://localhost:8080/"
        },
        "id": "7YdtTzj0xoiF",
        "outputId": "ec03af65-95cf-4284-d28d-931eaa4807da"
      },
      "execution_count": 10,
      "outputs": [
        {
          "output_type": "stream",
          "name": "stdout",
          "text": [
            "('yaswanth', 'rahul', 'manish')\n"
          ]
        }
      ]
    },
    {
      "cell_type": "code",
      "source": [
        "x=(\"praneeth\",\"yaswanth\",\"rahul\",\"manish\",\"bhanu\",\"mohith\")\n",
        "print(x[:4])"
      ],
      "metadata": {
        "colab": {
          "base_uri": "https://localhost:8080/"
        },
        "id": "JtYx0rB4ybBW",
        "outputId": "f5b59760-8fb8-4a16-9557-6b1530e6c777"
      },
      "execution_count": 12,
      "outputs": [
        {
          "output_type": "stream",
          "name": "stdout",
          "text": [
            "('praneeth', 'yaswanth', 'rahul', 'manish')\n"
          ]
        }
      ]
    },
    {
      "cell_type": "code",
      "source": [
        "x=(\"praneeth\",\"yaswanth\",\"rahul\",\"manish\",\"bhanu\",\"mohith\")\n",
        "print(x[-4:-1])"
      ],
      "metadata": {
        "colab": {
          "base_uri": "https://localhost:8080/"
        },
        "id": "anqbiIokyiZF",
        "outputId": "3e060422-bdaf-426a-83c1-744020a50a88"
      },
      "execution_count": 14,
      "outputs": [
        {
          "output_type": "stream",
          "name": "stdout",
          "text": [
            "('rahul', 'manish', 'bhanu')\n"
          ]
        }
      ]
    },
    {
      "cell_type": "code",
      "source": [
        "#check if item exists\n",
        "x=(\"rrr\",\"kgf\",\"beast\",\"ghani\",\"akhanda\")\n",
        "if \"rrr\" in x:\n",
        "  print(\"yes,'rrr'movie has been realeased\")"
      ],
      "metadata": {
        "colab": {
          "base_uri": "https://localhost:8080/"
        },
        "id": "0jrqNWBuy58l",
        "outputId": "4d16e8bc-ec0b-4e69-d71b-dd9622d0729d"
      },
      "execution_count": 16,
      "outputs": [
        {
          "output_type": "stream",
          "name": "stdout",
          "text": [
            "yes,'rrr'movie has been realeased\n"
          ]
        }
      ]
    },
    {
      "cell_type": "code",
      "source": [
        "#change tuple values\n",
        "x=(\"praneeth\",\"rahul\",\"yaswanth\",\"manish\")\n",
        "y=list(x)\n",
        "y[2]=\"bhanu\"\n",
        "x=tuple(y)\n",
        "\n",
        "print(x)"
      ],
      "metadata": {
        "colab": {
          "base_uri": "https://localhost:8080/"
        },
        "id": "cMjlbAoEz3Tl",
        "outputId": "2e052d5c-1906-4c4d-eb7e-e59837946ff2"
      },
      "execution_count": 18,
      "outputs": [
        {
          "output_type": "stream",
          "name": "stdout",
          "text": [
            "('praneeth', 'rahul', 'bhanu', 'manish')\n"
          ]
        }
      ]
    },
    {
      "cell_type": "code",
      "source": [
        "#add item in tuple\n",
        "x=(\"praneeth\",\"yaswanth\",\"manish\",\"bhanu\")\n",
        "y=list(x)\n",
        "y.append(\"rahul\")\n",
        "x=tuple(y)\n",
        "\n",
        "print(x)"
      ],
      "metadata": {
        "colab": {
          "base_uri": "https://localhost:8080/"
        },
        "id": "6c87R3ry0vPF",
        "outputId": "751d7769-ad83-4536-e4f1-a278e9c17582"
      },
      "execution_count": 20,
      "outputs": [
        {
          "output_type": "stream",
          "name": "stdout",
          "text": [
            "('praneeth', 'yaswanth', 'manish', 'bhanu', 'rahul')\n"
          ]
        }
      ]
    },
    {
      "cell_type": "code",
      "source": [
        "#add tuples to tuple\n",
        "x=(\"praneeth\",\"rahul\",\"yaswanth\")\n",
        "y=(\"manish\",)\n",
        "x+=y\n",
        "\n",
        "print(x)"
      ],
      "metadata": {
        "colab": {
          "base_uri": "https://localhost:8080/"
        },
        "id": "MkURz7wG1np1",
        "outputId": "d2c221f2-0c3c-4c36-8e41-d59bb85a0c8c"
      },
      "execution_count": 22,
      "outputs": [
        {
          "output_type": "stream",
          "name": "stdout",
          "text": [
            "('praneeth', 'rahul', 'yaswanth', 'manish')\n"
          ]
        }
      ]
    },
    {
      "cell_type": "code",
      "source": [
        "#removing a tuple\n",
        "x=(\"praneeth\",\"yaswanth\",\"rahul\",\"manish\")\n",
        "y=list(x)\n",
        "y.remove(\"praneeth\")\n",
        "x=tuple(y)\n",
        "\n",
        "print(x)"
      ],
      "metadata": {
        "colab": {
          "base_uri": "https://localhost:8080/"
        },
        "id": "pMaZRYWN2sgF",
        "outputId": "3a78f52f-3e61-48d5-856e-dbdcdf638d0a"
      },
      "execution_count": 24,
      "outputs": [
        {
          "output_type": "stream",
          "name": "stdout",
          "text": [
            "('yaswanth', 'rahul', 'manish')\n"
          ]
        }
      ]
    },
    {
      "cell_type": "code",
      "source": [
        "#unpacking a tuple\n",
        "x=(\"praneeth\",\"sai krihna\",\"vivek\")\n",
        "(topper,wastefellow,handsome)=x\n",
        "\n",
        "print(topper)\n",
        "print(wastefellow)\n",
        "print(handsome)"
      ],
      "metadata": {
        "colab": {
          "base_uri": "https://localhost:8080/"
        },
        "id": "xVn9Rqhg3QAl",
        "outputId": "72a0e868-b8e7-4d97-ca90-b9944ad9ca65"
      },
      "execution_count": 26,
      "outputs": [
        {
          "output_type": "stream",
          "name": "stdout",
          "text": [
            "praneeth\n",
            "sai krihna\n",
            "vivek\n"
          ]
        }
      ]
    },
    {
      "cell_type": "code",
      "source": [
        "#Using Asterisk\n",
        "x=(\"praneeth\",\"manish\",\"bhanu\",\"yaswanth\",\"rahul\")\n",
        "(white,black,*brown)=x\n",
        "\n",
        "print(white)\n",
        "print(black)\n",
        "print(brown)"
      ],
      "metadata": {
        "colab": {
          "base_uri": "https://localhost:8080/"
        },
        "id": "QnobFQcb5tWU",
        "outputId": "63b608e6-b72d-43d0-8f25-52d7be63f5a6"
      },
      "execution_count": 28,
      "outputs": [
        {
          "output_type": "stream",
          "name": "stdout",
          "text": [
            "praneeth\n",
            "manish\n",
            "['bhanu', 'yaswanth', 'rahul']\n"
          ]
        }
      ]
    },
    {
      "cell_type": "code",
      "source": [
        "#loop through a tuple\n",
        "x=(\"praneeth\",\"manish\",\"bhanu\",\"yaswanth\",\"rahul\")\n",
        "for x in x:\n",
        "  print(x)\n"
      ],
      "metadata": {
        "colab": {
          "base_uri": "https://localhost:8080/"
        },
        "id": "mDWnucfe6YYK",
        "outputId": "a46ecddd-b0bb-447f-a1c4-678c7c8a7405"
      },
      "execution_count": 35,
      "outputs": [
        {
          "output_type": "stream",
          "name": "stdout",
          "text": [
            "praneeth\n",
            "manish\n",
            "bhanu\n",
            "yaswanth\n",
            "rahul\n"
          ]
        }
      ]
    },
    {
      "cell_type": "code",
      "source": [
        "#Loop Through the Index Numbers\n",
        "x=(\"praneeth\",\"manish\",\"bhanu\",\"yaswanth\",\"rahul\")\n",
        "for i in range(len(x)):\n",
        "\n",
        "  print(x[i])\n"
      ],
      "metadata": {
        "colab": {
          "base_uri": "https://localhost:8080/"
        },
        "id": "pyO8RgCa89VU",
        "outputId": "6b18ed99-0ab7-41ef-ce0c-63fc227e60ca"
      },
      "execution_count": 37,
      "outputs": [
        {
          "output_type": "stream",
          "name": "stdout",
          "text": [
            "praneeth\n",
            "manish\n",
            "bhanu\n",
            "yaswanth\n",
            "rahul\n"
          ]
        }
      ]
    },
    {
      "cell_type": "code",
      "source": [
        ""
      ],
      "metadata": {
        "id": "iytxE7bS-Qtj"
      },
      "execution_count": null,
      "outputs": []
    }
  ]
}