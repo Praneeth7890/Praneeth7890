{
  "cells": [
    {
      "cell_type": "markdown",
      "metadata": {
        "id": "view-in-github",
        "colab_type": "text"
      },
      "source": [
        "<a href=\"https://colab.research.google.com/github/Praneeth7890/Praneeth7890/blob/main/python_excercise.ipynb\" target=\"_parent\"><img src=\"https://colab.research.google.com/assets/colab-badge.svg\" alt=\"Open In Colab\"/></a>"
      ]
    },
    {
      "cell_type": "markdown",
      "id": "a89e07cb",
      "metadata": {
        "id": "a89e07cb"
      },
      "source": [
        "# average of two numbers"
      ]
    },
    {
      "cell_type": "code",
      "execution_count": null,
      "id": "0cf3c99e",
      "metadata": {
        "id": "0cf3c99e",
        "outputId": "21809ef0-6824-47a3-9401-cb345ddf2696"
      },
      "outputs": [
        {
          "name": "stdout",
          "output_type": "stream",
          "text": [
            "41.666666666666664\n"
          ]
        }
      ],
      "source": [
        "a=29\n",
        "b=58\n",
        "c=38\n",
        "average = (a+b+c)/3\n",
        "print(average)"
      ]
    },
    {
      "cell_type": "markdown",
      "id": "29966cd3",
      "metadata": {
        "id": "29966cd3"
      },
      "source": [
        "# multiplication of three numbers "
      ]
    },
    {
      "cell_type": "code",
      "execution_count": null,
      "id": "3662520b",
      "metadata": {
        "id": "3662520b",
        "outputId": "96b1a851-46e8-4add-bc39-45bcda00637a"
      },
      "outputs": [
        {
          "name": "stdout",
          "output_type": "stream",
          "text": [
            "25530\n"
          ]
        }
      ],
      "source": [
        "a=15\n",
        "b=46\n",
        "c=37\n",
        "mul=a*b*c\n",
        "print(mul)"
      ]
    },
    {
      "cell_type": "markdown",
      "id": "acd9c2ad",
      "metadata": {
        "id": "acd9c2ad"
      },
      "source": [
        "# dynamic addition of 2 numbers"
      ]
    },
    {
      "cell_type": "code",
      "execution_count": null,
      "id": "51dcd3c7",
      "metadata": {
        "id": "51dcd3c7",
        "outputId": "26728905-7c9b-467a-f536-546d479a2b1a"
      },
      "outputs": [
        {
          "name": "stdout",
          "output_type": "stream",
          "text": [
            "enter a number47\n",
            "enter a number32\n",
            "79\n",
            "<class 'int'>\n"
          ]
        }
      ],
      "source": [
        "a=int(input(\"enter a number\"))\n",
        "b=int(input(\"enter a number\"))\n",
        "addition=(a+b)\n",
        "print(addition)\n",
        "print(type(addition))\n",
        "\n",
        "\n"
      ]
    },
    {
      "cell_type": "markdown",
      "id": "9f7b2ab7",
      "metadata": {
        "id": "9f7b2ab7"
      },
      "source": [
        "# dynamic of 3 numbers"
      ]
    },
    {
      "cell_type": "code",
      "execution_count": null,
      "id": "59014f98",
      "metadata": {
        "id": "59014f98",
        "outputId": "698f0090-b6c6-4d68-c723-644716c7925d"
      },
      "outputs": [
        {
          "name": "stdout",
          "output_type": "stream",
          "text": [
            "enter a number20\n",
            "enter a number37\n",
            "enter a number28\n",
            "20720\n",
            "<class 'int'>\n"
          ]
        }
      ],
      "source": [
        "a=int(input(\"enter a number\"))\n",
        "b=int(input(\"enter a number\"))\n",
        "c=int(input(\"enter a number\"))\n",
        "multi=(a*b*c)\n",
        "print(multi)\n",
        "print(type(multi))"
      ]
    },
    {
      "cell_type": "markdown",
      "id": "035da97b",
      "metadata": {
        "id": "035da97b"
      },
      "source": [
        "# type conversions"
      ]
    },
    {
      "cell_type": "markdown",
      "id": "3b199b5f",
      "metadata": {
        "id": "3b199b5f"
      },
      "source": [
        "\n",
        "## 1.int to float\n"
      ]
    },
    {
      "cell_type": "code",
      "execution_count": null,
      "id": "cb2651e0",
      "metadata": {
        "id": "cb2651e0",
        "outputId": "3b8f701f-ac66-4944-fbe1-488f1306b958"
      },
      "outputs": [
        {
          "name": "stdout",
          "output_type": "stream",
          "text": [
            "<class 'int'>\n",
            "<class 'float'>\n",
            "10.0\n"
          ]
        }
      ],
      "source": [
        "a=10\n",
        "print(type(a))\n",
        "b=float(a)\n",
        "print(type(b))\n",
        "print(b)"
      ]
    },
    {
      "cell_type": "markdown",
      "id": "0016a1ae",
      "metadata": {
        "id": "0016a1ae"
      },
      "source": [
        "## 2.float to int"
      ]
    },
    {
      "cell_type": "code",
      "execution_count": null,
      "id": "2b511dcb",
      "metadata": {
        "id": "2b511dcb",
        "outputId": "feaebf04-3f98-4793-ae9c-28bd86d2bee4"
      },
      "outputs": [
        {
          "name": "stdout",
          "output_type": "stream",
          "text": [
            "<class 'int'>\n",
            "<class 'int'>\n",
            "10\n"
          ]
        }
      ],
      "source": [
        "a=10\n",
        "print(type(a))\n",
        "b=int(a)\n",
        "print(type(b))\n",
        "print(b)"
      ]
    },
    {
      "cell_type": "markdown",
      "id": "baa4586a",
      "metadata": {
        "id": "baa4586a"
      },
      "source": [
        "## 3.int to string"
      ]
    },
    {
      "cell_type": "code",
      "execution_count": null,
      "id": "1ccb8269",
      "metadata": {
        "id": "1ccb8269",
        "outputId": "fdc72e16-4224-42f4-b4ef-acefdcf80c52"
      },
      "outputs": [
        {
          "name": "stdout",
          "output_type": "stream",
          "text": [
            "<class 'int'>\n",
            "<class 'str'>\n",
            "10\n"
          ]
        }
      ],
      "source": [
        "a=10\n",
        "print(type(a))\n",
        "b=str(a)\n",
        "print(type(b))\n",
        "print(b)"
      ]
    },
    {
      "cell_type": "markdown",
      "id": "1c330160",
      "metadata": {
        "id": "1c330160"
      },
      "source": [
        "## 4.float to string"
      ]
    },
    {
      "cell_type": "code",
      "execution_count": null,
      "id": "bd01f371",
      "metadata": {
        "id": "bd01f371",
        "outputId": "84f3b7ce-b83a-4e05-ba3e-c52aa1483e39"
      },
      "outputs": [
        {
          "name": "stdout",
          "output_type": "stream",
          "text": [
            "<class 'int'>\n",
            "<class 'str'>\n",
            "10\n"
          ]
        }
      ],
      "source": [
        "a=10\n",
        "print(type(a))\n",
        "b=str(a)\n",
        "print(type(b))\n",
        "print(b)"
      ]
    },
    {
      "cell_type": "markdown",
      "id": "d42adf47",
      "metadata": {
        "id": "d42adf47"
      },
      "source": [
        "## 5.string to int"
      ]
    },
    {
      "cell_type": "code",
      "execution_count": null,
      "id": "773d5a31",
      "metadata": {
        "id": "773d5a31",
        "outputId": "264e0328-c888-4f88-ce34-941e11ef6768"
      },
      "outputs": [
        {
          "name": "stdout",
          "output_type": "stream",
          "text": [
            "<class 'int'>\n",
            "<class 'int'>\n",
            "10\n"
          ]
        }
      ],
      "source": [
        "a=10\n",
        "print(type(a))\n",
        "b=int(a)\n",
        "print(type(b))\n",
        "print(b)"
      ]
    },
    {
      "cell_type": "markdown",
      "id": "7f5e69b6",
      "metadata": {
        "id": "7f5e69b6"
      },
      "source": [
        "# Boolean"
      ]
    },
    {
      "cell_type": "code",
      "execution_count": null,
      "id": "587c6eee",
      "metadata": {
        "id": "587c6eee",
        "outputId": "a4588f79-272a-4601-821d-72c88eb23ed9"
      },
      "outputs": [
        {
          "name": "stdout",
          "output_type": "stream",
          "text": [
            "True\n"
          ]
        }
      ],
      "source": [
        "a=34\n",
        "b=45\n",
        "c=a<b\n",
        "print(bool(c))"
      ]
    },
    {
      "cell_type": "markdown",
      "id": "c41779f1",
      "metadata": {
        "id": "c41779f1"
      },
      "source": [
        "## Boolean to int"
      ]
    },
    {
      "cell_type": "code",
      "execution_count": null,
      "id": "1595476c",
      "metadata": {
        "id": "1595476c",
        "outputId": "60d80dd1-efa7-4804-ec78-f2e7dddbdc73"
      },
      "outputs": [
        {
          "name": "stdout",
          "output_type": "stream",
          "text": [
            "<class 'int'>\n",
            "<class 'bool'>\n",
            "True\n"
          ]
        }
      ],
      "source": [
        "a=10\n",
        "print(type(a))\n",
        "b=bool(a)\n",
        "print(type(b))\n",
        "print(b)"
      ]
    },
    {
      "cell_type": "markdown",
      "id": "b8a9f905",
      "metadata": {
        "id": "b8a9f905"
      },
      "source": [
        "# boolean to string"
      ]
    },
    {
      "cell_type": "code",
      "execution_count": null,
      "id": "fe7f4d81",
      "metadata": {
        "id": "fe7f4d81",
        "outputId": "bb524311-6b25-491a-9c20-f2241e7d17ed"
      },
      "outputs": [
        {
          "name": "stdout",
          "output_type": "stream",
          "text": [
            "<class 'int'>\n",
            "<class 'str'>\n"
          ]
        }
      ],
      "source": [
        "a=10\n",
        "print(type(a))\n",
        "b=str(a)\n",
        "print(type(b))"
      ]
    },
    {
      "cell_type": "markdown",
      "id": "e4ee9c0b",
      "metadata": {
        "id": "e4ee9c0b"
      },
      "source": [
        "# complex"
      ]
    },
    {
      "cell_type": "code",
      "execution_count": null,
      "id": "2505bcc9",
      "metadata": {
        "id": "2505bcc9",
        "outputId": "aa6e1623-3840-4358-e906-2b4cd60184d9"
      },
      "outputs": [
        {
          "name": "stdout",
          "output_type": "stream",
          "text": [
            "<class 'complex'>\n",
            "<class 'str'>\n"
          ]
        }
      ],
      "source": [
        "a=5+2j\n",
        "print(type(a))\n",
        "c=str(a)\n",
        "print (type(c))"
      ]
    },
    {
      "cell_type": "markdown",
      "id": "e60a77c0",
      "metadata": {
        "id": "e60a77c0"
      },
      "source": [
        "# if"
      ]
    },
    {
      "cell_type": "code",
      "execution_count": null,
      "id": "a25872b0",
      "metadata": {
        "id": "a25872b0",
        "outputId": "de562bae-c2fe-4966-905f-c13684aa203e"
      },
      "outputs": [
        {
          "name": "stdout",
          "output_type": "stream",
          "text": [
            "eligible for voting\n"
          ]
        }
      ],
      "source": [
        "a=20\n",
        "if a>=18:\n",
        "    print(\"eligible for voting\")\n",
        "else:\n",
        "    print(\"not eligible for voting\")\n"
      ]
    },
    {
      "cell_type": "code",
      "execution_count": null,
      "id": "682268f8",
      "metadata": {
        "id": "682268f8",
        "outputId": "83b121a8-036c-4dbb-a7e2-1811f90f56ab"
      },
      "outputs": [
        {
          "name": "stdout",
          "output_type": "stream",
          "text": [
            "not eligible for voting\n"
          ]
        }
      ],
      "source": [
        "a=6\n",
        "if a>=18:\n",
        "    print(\"eligible for voting\")\n",
        "else:\n",
        "    print(\"not eligible for voting\")\n"
      ]
    },
    {
      "cell_type": "markdown",
      "id": "c22252ef",
      "metadata": {
        "id": "c22252ef"
      },
      "source": [
        "# find the greatest of three numbers"
      ]
    },
    {
      "cell_type": "code",
      "execution_count": null,
      "id": "a255c342",
      "metadata": {
        "id": "a255c342",
        "outputId": "2fc1eba9-f1aa-4eef-d6eb-ceae9c40b9ce"
      },
      "outputs": [
        {
          "name": "stdout",
          "output_type": "stream",
          "text": [
            "enter first number:15\n",
            "enter second number:12\n",
            "enter third number:09\n",
            "the largest numbers is: 15.0\n"
          ]
        }
      ],
      "source": [
        "num1=float(input(\"enter first number:\"))\n",
        "num2=float(input(\"enter second number:\"))\n",
        "num3=float(input(\"enter third number:\"))\n",
        "if (num1>num2) and (num1>num3):\n",
        "     largest=num1\n",
        "elif (num2>num1) and (num2>num3):\n",
        "     largest=num2\n",
        "else:\n",
        "     largest=num3\n",
        "print(\"the largest numbers is:\",largest)\n"
      ]
    },
    {
      "cell_type": "markdown",
      "id": "99beaffd",
      "metadata": {
        "id": "99beaffd"
      },
      "source": [
        "# print even num from 1 to 100"
      ]
    },
    {
      "cell_type": "code",
      "execution_count": null,
      "id": "3c113b3b",
      "metadata": {
        "id": "3c113b3b",
        "outputId": "24a15517-7dba-4b62-cbc2-173cb955888b"
      },
      "outputs": [
        {
          "name": "stdout",
          "output_type": "stream",
          "text": [
            "2\n",
            "4\n",
            "6\n",
            "8\n",
            "10\n",
            "12\n",
            "14\n",
            "16\n",
            "18\n",
            "20\n",
            "22\n",
            "24\n",
            "26\n",
            "28\n",
            "30\n",
            "32\n",
            "34\n",
            "36\n",
            "38\n",
            "40\n",
            "42\n",
            "44\n",
            "46\n",
            "48\n",
            "50\n",
            "52\n",
            "54\n",
            "56\n",
            "58\n",
            "60\n",
            "62\n",
            "64\n",
            "66\n",
            "68\n",
            "70\n",
            "72\n",
            "74\n",
            "76\n",
            "78\n",
            "80\n",
            "82\n",
            "84\n",
            "86\n",
            "88\n",
            "90\n",
            "92\n",
            "94\n",
            "96\n",
            "98\n",
            "100\n"
          ]
        }
      ],
      "source": [
        "for i in range(1,100,2):\n",
        "    print(i+1)"
      ]
    },
    {
      "cell_type": "markdown",
      "id": "4567c7ae",
      "metadata": {
        "id": "4567c7ae"
      },
      "source": [
        "# loops"
      ]
    },
    {
      "cell_type": "markdown",
      "id": "a929ce93",
      "metadata": {
        "id": "a929ce93"
      },
      "source": [
        "## while loop"
      ]
    },
    {
      "cell_type": "code",
      "execution_count": null,
      "id": "fbfc1d20",
      "metadata": {
        "id": "fbfc1d20",
        "outputId": "6a0a3702-fd63-42a6-9da1-383fdb32d3ec"
      },
      "outputs": [
        {
          "name": "stdout",
          "output_type": "stream",
          "text": [
            "enter n:5\n",
            "the sum is: 5\n"
          ]
        }
      ],
      "source": [
        "n=int(input(\"enter n:\"))\n",
        "sum=0\n",
        "i=1\n",
        "while i<=n:\n",
        "    sum=sum+1\n",
        "    i=i+1\n",
        "print(\"the sum is:\",sum)"
      ]
    },
    {
      "cell_type": "markdown",
      "id": "709a171f",
      "metadata": {
        "id": "709a171f"
      },
      "source": [
        "# leap year"
      ]
    },
    {
      "cell_type": "code",
      "execution_count": null,
      "id": "b75bcb35",
      "metadata": {
        "id": "b75bcb35",
        "outputId": "6469c743-0663-40ed-f765-fbb45ec1bc96"
      },
      "outputs": [
        {
          "name": "stdout",
          "output_type": "stream",
          "text": [
            "2022 is not a leap year\n"
          ]
        }
      ],
      "source": [
        "year = 2022\n",
        "if (year % 400 == 0) and (year % 100 == 0):\n",
        "    print(\"{0} is a leap year\".format(year))\n",
        "elif (year % 4 ==0) and (year % 100 != 0):\n",
        "    print(\"{0} is a leap year\".format(year))\n",
        "else:\n",
        "    print(\"{0} is not a leap year\".format(year))"
      ]
    },
    {
      "cell_type": "markdown",
      "id": "4d4577b6",
      "metadata": {
        "id": "4d4577b6"
      },
      "source": [
        "# triangle"
      ]
    },
    {
      "cell_type": "code",
      "execution_count": null,
      "id": "dbc0a796",
      "metadata": {
        "id": "dbc0a796",
        "outputId": "5a2ab82f-6271-421e-c955-c00bfa9345d9"
      },
      "outputs": [
        {
          "name": "stdout",
          "output_type": "stream",
          "text": [
            "enter a:4\n",
            "enter b:5\n",
            "enter c:5\n",
            "it is a equilateral triangle\n"
          ]
        }
      ],
      "source": [
        "a=int(input(\"enter a:\"))\n",
        "b=int(input(\"enter b:\"))\n",
        "c=int(input(\"enter c:\"))\n",
        "if a==b and b==c:\n",
        "    print(\"it is a isosceles triangle\")\n",
        "elif a==b or b==c or c==a:\n",
        "    print(\"it is a equilateral triangle\")\n",
        "else:\n",
        "    print(\"it is a scalar\")"
      ]
    },
    {
      "cell_type": "markdown",
      "id": "bc9c32b4",
      "metadata": {
        "id": "bc9c32b4"
      },
      "source": [
        "# min among 3"
      ]
    },
    {
      "cell_type": "code",
      "execution_count": null,
      "id": "f288948a",
      "metadata": {
        "id": "f288948a",
        "outputId": "aeb1de50-5888-4c3b-9009-c1005105b036"
      },
      "outputs": [
        {
          "name": "stdout",
          "output_type": "stream",
          "text": [
            "enter a56\n",
            "enter b:56\n"
          ]
        }
      ],
      "source": [
        "a=int(input(\"enter a\"))\n",
        "b=int(input(\"enter b:\"))\n",
        "c=int(input(\"enter c:\"))\n",
        "smallest=0\n",
        "\n",
        "if a < b and a < c :\n",
        "    smallest = a\n",
        "if b < a and b < c :\n",
        "    smallest = b\n",
        "if c < a and c < b :\n",
        "    smallest = c\n",
        "\n",
        "print(smallest, \"is the smallest of three numbers.\")\n"
      ]
    }
  ],
  "metadata": {
    "kernelspec": {
      "display_name": "Python 3 (ipykernel)",
      "language": "python",
      "name": "python3"
    },
    "language_info": {
      "codemirror_mode": {
        "name": "ipython",
        "version": 3
      },
      "file_extension": ".py",
      "mimetype": "text/x-python",
      "name": "python",
      "nbconvert_exporter": "python",
      "pygments_lexer": "ipython3",
      "version": "3.9.7"
    },
    "colab": {
      "name": "python excercise.ipynb",
      "provenance": [],
      "include_colab_link": true
    }
  },
  "nbformat": 4,
  "nbformat_minor": 5
}