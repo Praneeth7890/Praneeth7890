{
  "nbformat": 4,
  "nbformat_minor": 0,
  "metadata": {
    "colab": {
      "name": "Untitled1.ipynb",
      "provenance": [],
      "authorship_tag": "ABX9TyNzmBcUMFZHJceiYH6yTjnP",
      "include_colab_link": true
    },
    "kernelspec": {
      "name": "python3",
      "display_name": "Python 3"
    },
    "language_info": {
      "name": "python"
    }
  },
  "cells": [
    {
      "cell_type": "markdown",
      "metadata": {
        "id": "view-in-github",
        "colab_type": "text"
      },
      "source": [
        "<a href=\"https://colab.research.google.com/github/Praneeth7890/Praneeth7890/blob/main/Untitled1.ipynb\" target=\"_parent\"><img src=\"https://colab.research.google.com/assets/colab-badge.svg\" alt=\"Open In Colab\"/></a>"
      ]
    },
    {
      "cell_type": "markdown",
      "source": [
        "strings\n"
      ],
      "metadata": {
        "id": "KlpFAkMs60VK"
      }
    },
    {
      "cell_type": "code",
      "source": [
        "a=praneeth\n",
        "print(a)\n",
        "print(type(a))\n",
        "print(a[1])\n"
      ],
      "metadata": {
        "id": "eQwFj0GZ6y27"
      },
      "execution_count": null,
      "outputs": []
    },
    {
      "cell_type": "code",
      "source": [
        "a=\"RRR movie has realsed\"\n",
        "print (\"movie\" in a)"
      ],
      "metadata": {
        "colab": {
          "base_uri": "https://localhost:8080/"
        },
        "id": "OVdvR00z8OTs",
        "outputId": "edc58da2-1520-41c0-909e-24002b013d4a"
      },
      "execution_count": 38,
      "outputs": [
        {
          "output_type": "stream",
          "name": "stdout",
          "text": [
            "True\n"
          ]
        }
      ]
    },
    {
      "cell_type": "code",
      "source": [
        "a=\"RRR movie has realsed\"\n",
        "print(\"ntr\" in a)"
      ],
      "metadata": {
        "colab": {
          "base_uri": "https://localhost:8080/"
        },
        "id": "kAv14Y-I9h2s",
        "outputId": "1328debb-d590-486b-e919-1a52fecc848f"
      },
      "execution_count": null,
      "outputs": [
        {
          "output_type": "stream",
          "name": "stdout",
          "text": [
            "False\n"
          ]
        }
      ]
    },
    {
      "cell_type": "markdown",
      "source": [
        "slicing"
      ],
      "metadata": {
        "id": "Kmag0ZX69tVu"
      }
    },
    {
      "cell_type": "code",
      "source": [
        "a=\"RRR movie has realsed\"\n",
        "print(a[2:5])"
      ],
      "metadata": {
        "colab": {
          "base_uri": "https://localhost:8080/"
        },
        "id": "yHYYCR8U9wGy",
        "outputId": "6bb4017b-8ed6-46cf-ef34-bbf3e46e3487"
      },
      "execution_count": 39,
      "outputs": [
        {
          "output_type": "stream",
          "name": "stdout",
          "text": [
            "R m\n"
          ]
        }
      ]
    },
    {
      "cell_type": "code",
      "source": [
        "a=\"RRR has been released\"\n",
        "print(a.replace(\"RRR\",\"radheyshyam\"))"
      ],
      "metadata": {
        "colab": {
          "base_uri": "https://localhost:8080/"
        },
        "id": "wHUtP3FWYpAY",
        "outputId": "d905192c-ac90-4b95-8aa3-16a29f814fc3"
      },
      "execution_count": 5,
      "outputs": [
        {
          "output_type": "stream",
          "name": "stdout",
          "text": [
            "radheyshyam has been released\n"
          ]
        }
      ]
    },
    {
      "cell_type": "code",
      "source": [
        "x=\"praneeth chowdary\"\n",
        "print(x.replace(\"p\",\"k\"))"
      ],
      "metadata": {
        "colab": {
          "base_uri": "https://localhost:8080/"
        },
        "id": "2o2STfQNbBjd",
        "outputId": "240a230f-0bcb-4695-c47c-89272f0e2bb5"
      },
      "execution_count": 7,
      "outputs": [
        {
          "output_type": "stream",
          "name": "stdout",
          "text": [
            "kraneeth chowdary\n"
          ]
        }
      ]
    },
    {
      "cell_type": "code",
      "source": [
        "x=\"praneeth,chowdary\"\n",
        "print(x.split(\",\"))\n"
      ],
      "metadata": {
        "colab": {
          "base_uri": "https://localhost:8080/"
        },
        "id": "BOzv9gMqhZbn",
        "outputId": "da70b11e-286d-4c60-f78b-91973d701670"
      },
      "execution_count": 9,
      "outputs": [
        {
          "output_type": "stream",
          "name": "stdout",
          "text": [
            "['praneeth', 'chowdary']\n"
          ]
        }
      ]
    },
    {
      "cell_type": "code",
      "source": [
        "a=\"praneeth\"\n",
        "b=\"chowdary\"\n",
        "c=a+b\n",
        "print(c)"
      ],
      "metadata": {
        "colab": {
          "base_uri": "https://localhost:8080/"
        },
        "id": "TFNGOHzdh5Wl",
        "outputId": "80e6f035-441a-4ca9-8ede-7d002e5b0c56"
      },
      "execution_count": 11,
      "outputs": [
        {
          "output_type": "stream",
          "name": "stdout",
          "text": [
            "praneethchowdary\n"
          ]
        }
      ]
    },
    {
      "cell_type": "code",
      "source": [
        "a=\"praneeth\"\n",
        "b=\"chowdary\"\n",
        "c=a+\" \"+b\n",
        "print(c)"
      ],
      "metadata": {
        "colab": {
          "base_uri": "https://localhost:8080/"
        },
        "id": "dSQ-FUBPiKcU",
        "outputId": "22d5f2dd-765f-40d5-ed69-27b33def5256"
      },
      "execution_count": 13,
      "outputs": [
        {
          "output_type": "stream",
          "name": "stdout",
          "text": [
            "praneeth chowdary\n"
          ]
        }
      ]
    },
    {
      "cell_type": "code",
      "source": [
        "age=18\n",
        "txt=\"my name is praneeth,and i am {}\"\n",
        "print(txt.format(age))\n"
      ],
      "metadata": {
        "colab": {
          "base_uri": "https://localhost:8080/"
        },
        "id": "FT0JLULPiell",
        "outputId": "071c8542-3d20-434b-a80c-6c2fcd436912"
      },
      "execution_count": 15,
      "outputs": [
        {
          "output_type": "stream",
          "name": "stdout",
          "text": [
            "my name is praneeth,and i am 18\n"
          ]
        }
      ]
    },
    {
      "cell_type": "code",
      "source": [
        "sprite=2\n",
        "thumpsup=3\n",
        "mazza=4\n",
        "myorder=\"i want sprite {} and thumpsup {} and mazza {} for 90 rupees\"\n",
        "print(myorder.format(sprite,thumpsup,mazza))"
      ],
      "metadata": {
        "colab": {
          "base_uri": "https://localhost:8080/"
        },
        "id": "PzGjU5lOjGjF",
        "outputId": "a2df16a5-05c4-4978-e8df-8db953ec5c06"
      },
      "execution_count": 17,
      "outputs": [
        {
          "output_type": "stream",
          "name": "stdout",
          "text": [
            "i want sprite 2 and thumpsup 3 and mazza 4 for 90 rupees\n"
          ]
        }
      ]
    },
    {
      "cell_type": "code",
      "source": [
        "sprite=2\n",
        "thumpsup=3\n",
        "mazza=4\n",
        "myorder=\"i want sprite {2} and thumpsup {0} and mazza {1} for 90 rupees\"\n",
        "print(myorder.format(sprite,thumpsup,mazza))"
      ],
      "metadata": {
        "colab": {
          "base_uri": "https://localhost:8080/"
        },
        "id": "f1T8f8bMkYXF",
        "outputId": "697bab02-d273-4af3-f348-9932b3e68963"
      },
      "execution_count": 21,
      "outputs": [
        {
          "output_type": "stream",
          "name": "stdout",
          "text": [
            "i want sprite 4 and thumpsup 2 and mazza 3 for 90 rupees\n"
          ]
        }
      ]
    },
    {
      "cell_type": "code",
      "source": [
        "a=\"sai krishna is a\\\"lafoot fellow\\\" in the class\"\n",
        "print(a)"
      ],
      "metadata": {
        "colab": {
          "base_uri": "https://localhost:8080/"
        },
        "id": "83bzR1QcmTVs",
        "outputId": "33bc5966-dcc6-4935-c889-256514875622"
      },
      "execution_count": 22,
      "outputs": [
        {
          "output_type": "stream",
          "name": "stdout",
          "text": [
            "sai krishna is a\"lafoot fellow\" in the class\n"
          ]
        }
      ]
    },
    {
      "cell_type": "code",
      "source": [
        "a=\"praneeth \\\\chowdary\"\n",
        "print(a)"
      ],
      "metadata": {
        "colab": {
          "base_uri": "https://localhost:8080/"
        },
        "id": "UJN_ZfKdmUSV",
        "outputId": "ade46273-a469-4679-b758-5221981376d8"
      },
      "execution_count": 24,
      "outputs": [
        {
          "output_type": "stream",
          "name": "stdout",
          "text": [
            "praneeth \\chowdary\n"
          ]
        }
      ]
    },
    {
      "cell_type": "code",
      "source": [
        "a=\"praneth\\nchowdary\"\n",
        "print(a)"
      ],
      "metadata": {
        "colab": {
          "base_uri": "https://localhost:8080/"
        },
        "id": "7DjBypGAnYsU",
        "outputId": "794905e8-1f7a-467e-97ba-39b8d5f48b28"
      },
      "execution_count": 26,
      "outputs": [
        {
          "output_type": "stream",
          "name": "stdout",
          "text": [
            "praneth\n",
            "chowdary\n"
          ]
        }
      ]
    },
    {
      "cell_type": "code",
      "source": [
        "a=\"praneeth\\bchowdary\"\n",
        "print(a)"
      ],
      "metadata": {
        "colab": {
          "base_uri": "https://localhost:8080/"
        },
        "id": "pqRJw__wnpN0",
        "outputId": "c3ee8d17-33ec-40f9-9a14-2d90c69285c6"
      },
      "execution_count": 28,
      "outputs": [
        {
          "output_type": "stream",
          "name": "stdout",
          "text": [
            "praneeth\bchowdary\n"
          ]
        }
      ]
    },
    {
      "cell_type": "code",
      "source": [
        "a=\"praneeth\\fchowdary\"\n",
        "print(a)"
      ],
      "metadata": {
        "colab": {
          "base_uri": "https://localhost:8080/"
        },
        "id": "bPUoaOSYoOYE",
        "outputId": "0b0ff602-e4f0-4786-cd60-cfa4636d0965"
      },
      "execution_count": 34,
      "outputs": [
        {
          "output_type": "stream",
          "name": "stdout",
          "text": [
            "praneeth\fchowdary\n"
          ]
        }
      ]
    },
    {
      "cell_type": "code",
      "source": [
        "a=\"praneeth\\rchowdary\"\n",
        "print(a)"
      ],
      "metadata": {
        "colab": {
          "base_uri": "https://localhost:8080/"
        },
        "id": "rr43NvMLo4pE",
        "outputId": "786bb19a-e530-4146-efa1-fec78c52a833"
      },
      "execution_count": 37,
      "outputs": [
        {
          "output_type": "stream",
          "name": "stdout",
          "text": [
            "praneeth\rchowdary\n"
          ]
        }
      ]
    },
    {
      "cell_type": "code",
      "source": [
        ""
      ],
      "metadata": {
        "id": "qdA3GTSUo7cE"
      },
      "execution_count": null,
      "outputs": []
    }
  ]
}