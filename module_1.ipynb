{
  "nbformat": 4,
  "nbformat_minor": 0,
  "metadata": {
    "colab": {
      "name": "module 1.ipynb",
      "provenance": [],
      "authorship_tag": "ABX9TyNg082nlPf+iD2gAR0mUNHu",
      "include_colab_link": true
    },
    "kernelspec": {
      "name": "python3",
      "display_name": "Python 3"
    },
    "language_info": {
      "name": "python"
    }
  },
  "cells": [
    {
      "cell_type": "markdown",
      "metadata": {
        "id": "view-in-github",
        "colab_type": "text"
      },
      "source": [
        "<a href=\"https://colab.research.google.com/github/Praneeth7890/Praneeth7890/blob/main/module_1.ipynb\" target=\"_parent\"><img src=\"https://colab.research.google.com/assets/colab-badge.svg\" alt=\"Open In Colab\"/></a>"
      ]
    },
    {
      "cell_type": "markdown",
      "source": [
        "\n",
        "Accept input from user and store it in variable and print the value."
      ],
      "metadata": {
        "id": "sWA5TrbsSDB_"
      }
    },
    {
      "cell_type": "code",
      "source": [
        "x=int(input(\"enter a value\"))\n",
        "print(x)"
      ],
      "metadata": {
        "colab": {
          "base_uri": "https://localhost:8080/"
        },
        "id": "dyQIAIUHR5-X",
        "outputId": "90c8c524-b1b1-4c99-f905-d861df28b0f7"
      },
      "execution_count": null,
      "outputs": [
        {
          "output_type": "stream",
          "name": "stdout",
          "text": [
            "enter a value10\n",
            "10\n"
          ]
        }
      ]
    },
    {
      "cell_type": "markdown",
      "source": [
        "Use of print statements and use of (.format )for printing different data types"
      ],
      "metadata": {
        "id": "2Fb9NcQXWPSX"
      }
    },
    {
      "cell_type": "code",
      "source": [
        "x=134\n",
        "y=325.89\n",
        "z=5978j\n",
        "print(type(x))\n",
        "print(type(y))\n",
        "print(type(z))\n"
      ],
      "metadata": {
        "colab": {
          "base_uri": "https://localhost:8080/"
        },
        "id": "ESYx7izcWTn1",
        "outputId": "a467bb39-2a55-48b0-b188-933a62020544"
      },
      "execution_count": null,
      "outputs": [
        {
          "output_type": "stream",
          "name": "stdout",
          "text": [
            "<class 'int'>\n",
            "<class 'float'>\n",
            "<class 'complex'>\n"
          ]
        }
      ]
    },
    {
      "cell_type": "markdown",
      "source": [
        "Take 2 numbers as user input and add, multiply, divide, subtract, remainder and print\n",
        "the output (Same operations on floating point input as well)"
      ],
      "metadata": {
        "id": "XEocei4GStY3"
      }
    },
    {
      "cell_type": "code",
      "source": [
        "x=int(input())\n",
        "y=float(input())\n",
        "print(\"add\",x+y)\n",
        "print(\"multi\",x*y)\n",
        "print(\"sub\",x-y)\n",
        "print(\"div\",x/y)"
      ],
      "metadata": {
        "colab": {
          "base_uri": "https://localhost:8080/"
        },
        "id": "yMBF88qeSvw3",
        "outputId": "380974e1-81ef-4a0e-dd53-bf522d81876a"
      },
      "execution_count": null,
      "outputs": [
        {
          "output_type": "stream",
          "name": "stdout",
          "text": [
            "54\n",
            "13\n",
            "add 67.0\n",
            "multi 702.0\n",
            "sub 41.0\n",
            "div 4.153846153846154\n"
          ]
        }
      ]
    },
    {
      "cell_type": "markdown",
      "source": [
        "Conversion of one unit to another (such as hours to minutes, miles to km and etc)"
      ],
      "metadata": {
        "id": "W5Xd14LTTxB_"
      }
    },
    {
      "cell_type": "code",
      "source": [
        "x=float(input())\n",
        "print(x*60)  #hours to min\n",
        "print(x*1.60934)  #miles to km"
      ],
      "metadata": {
        "colab": {
          "base_uri": "https://localhost:8080/"
        },
        "id": "fvJ95MuTT1RG",
        "outputId": "07327d9d-2b78-4254-94f2-05d1d84553d4"
      },
      "execution_count": null,
      "outputs": [
        {
          "output_type": "stream",
          "name": "stdout",
          "text": [
            "48\n",
            "2880.0\n",
            "77.24832\n"
          ]
        }
      ]
    },
    {
      "cell_type": "markdown",
      "source": [
        "Usage of mathematical functions in python like math.ceil, floor, fabs, fmod, trunc,\n",
        "pow, sqrt etc."
      ],
      "metadata": {
        "id": "SYKFqY-3Uc4f"
      }
    },
    {
      "cell_type": "code",
      "source": [
        "import math\n",
        "x=2.4674\n",
        "print(math.ceil(x))\n",
        "y=3.6483\n",
        "print(math.floor(y))\n",
        "z=3.7859\n",
        "print(math.fabs(z))\n",
        "a=5.7386\n",
        "print(math.copysign(a,z))\n",
        "\n"
      ],
      "metadata": {
        "id": "lYomsmnQUhYW",
        "colab": {
          "base_uri": "https://localhost:8080/"
        },
        "outputId": "5c3c3c35-a130-401c-df94-15d3aaa2701a"
      },
      "execution_count": null,
      "outputs": [
        {
          "output_type": "stream",
          "name": "stdout",
          "text": [
            "3\n",
            "3\n",
            "3.7859\n",
            "5.7386\n"
          ]
        }
      ]
    },
    {
      "cell_type": "markdown",
      "source": [
        "Building a mathematical calculator that can perform operations according to user input.\n",
        "Use decision making statement."
      ],
      "metadata": {
        "id": "WO_TZJ6cXRsG"
      }
    },
    {
      "cell_type": "code",
      "source": [
        "def add(x, y):\n",
        "    return x+y\n",
        "def subtract(x, y):\n",
        "    return x - y\n",
        "def multiply(x, y):\n",
        "    return x * y\n",
        "def divide(x, y):\n",
        "    return x / y\n",
        "\n",
        "print(\"Select operation.\")\n",
        "print(\"1.Add\")\n",
        "print(\"2.Subtract\")\n",
        "print(\"3.Multiply\")\n",
        "print(\"4.Divide\")\n",
        "\n",
        "while True:\n",
        "    choice = input(\"Enter choice(1/2/3/4): \")\n",
        "\n",
        "    if choice in ('1', '2', '3', '4'):\n",
        "        num1 = float(input(\"Enter first number: \"))\n",
        "        num2 = float(input(\"Enter second number: \"))\n",
        "\n",
        "        if choice == '1':\n",
        "            print(num1, \"+\", num2, \"=\", add(num1, num2))\n",
        "\n",
        "        elif choice == '2':\n",
        "            print(num1, \"-\", num2, \"=\", subtract(num1, num2))\n",
        "\n",
        "        elif choice == '3':\n",
        "            print(num1, \"*\", num2, \"=\", multiply(num1, num2))\n",
        "\n",
        "        elif choice == '4':\n",
        "            print(num1, \"/\", num2, \"=\", divide(num1, num2))\n",
        "        \n",
        "     \n",
        "        next_calculation = input(\"Let's do next calculation? (yes/no): \")\n",
        "        if next_calculation == \"no\":\n",
        "          break\n",
        "    \n",
        "    else:\n",
        "        print(\"Invalid Input\")"
      ],
      "metadata": {
        "id": "vsltdTxaXUv0",
        "colab": {
          "base_uri": "https://localhost:8080/"
        },
        "outputId": "8a8d3b93-b26d-4e91-836d-29a2f1f41f1b"
      },
      "execution_count": null,
      "outputs": [
        {
          "name": "stdout",
          "output_type": "stream",
          "text": [
            "Select operation.\n",
            "1.Add\n",
            "2.Subtract\n",
            "3.Multiply\n",
            "4.Divide\n",
            "Enter choice(1/2/3/4): 4\n",
            "Enter first number: 4\n",
            "Enter second number: 2\n",
            "4.0 / 2.0 = 2.0\n",
            "Let's do next calculation? (yes/no): 1\n",
            "Enter choice(1/2/3/4): 3\n",
            "Enter first number: 5\n",
            "Enter second number: 6\n",
            "5.0 * 6.0 = 30.0\n",
            "Let's do next calculation? (yes/no): no\n"
          ]
        }
      ]
    },
    {
      "cell_type": "markdown",
      "source": [
        "x Accepting 5 different subject marks from user and displaying the grade of the student."
      ],
      "metadata": {
        "id": "CO7Y3B1bfHPX"
      }
    },
    {
      "cell_type": "code",
      "source": [
        "a=int(input())\n",
        "b=int(input())\n",
        "c=int(input())\n",
        "d=int(input())\n",
        "e=int(input())\n",
        "total=a+b+c+d+e;\n",
        "if total>=90:\n",
        "  print(\"10 points\")\n",
        "elif total>80 and total<90:\n",
        "  print(\"9 points\")\n",
        "elif total>70 and total<60:\n",
        "  print(\"8 points\")\n",
        "else:\n",
        "  print(\"Better luck next time\")\n"
      ],
      "metadata": {
        "colab": {
          "base_uri": "https://localhost:8080/"
        },
        "id": "Z56Crl0GfMTl",
        "outputId": "aa217958-cb16-4b56-8fb0-ec27e2f736b9"
      },
      "execution_count": 2,
      "outputs": [
        {
          "output_type": "stream",
          "name": "stdout",
          "text": [
            "92\n",
            "85\n",
            "75\n",
            "91\n",
            "64\n",
            "10 points\n"
          ]
        }
      ]
    },
    {
      "cell_type": "markdown",
      "source": [
        "Printing all even numbers, odd numbers, count of even numbers, count of odd numbers within a given range"
      ],
      "metadata": {
        "id": "5hZI2CFDvY5C"
      }
    },
    {
      "cell_type": "code",
      "source": [
        "even,odd=0,0\n",
        "for i in range(1,100):\n",
        " if i%2 == 0:\n",
        "   print(i)\n",
        "   even+=1\n",
        "\n",
        " elif i%2!=0:\n",
        "   print(i)\n",
        "   odd+=1\n",
        "   \n",
        "print(\"Odd:\",odd)\n",
        "print(\"Even :\",even)"
      ],
      "metadata": {
        "colab": {
          "base_uri": "https://localhost:8080/"
        },
        "id": "iEpXqMmSvb_O",
        "outputId": "293c965b-66ac-4b5e-83db-e378c7fdf2f9"
      },
      "execution_count": 3,
      "outputs": [
        {
          "output_type": "stream",
          "name": "stdout",
          "text": [
            "1\n",
            "2\n",
            "3\n",
            "4\n",
            "5\n",
            "6\n",
            "7\n",
            "8\n",
            "9\n",
            "10\n",
            "11\n",
            "12\n",
            "13\n",
            "14\n",
            "15\n",
            "16\n",
            "17\n",
            "18\n",
            "19\n",
            "20\n",
            "21\n",
            "22\n",
            "23\n",
            "24\n",
            "25\n",
            "26\n",
            "27\n",
            "28\n",
            "29\n",
            "30\n",
            "31\n",
            "32\n",
            "33\n",
            "34\n",
            "35\n",
            "36\n",
            "37\n",
            "38\n",
            "39\n",
            "40\n",
            "41\n",
            "42\n",
            "43\n",
            "44\n",
            "45\n",
            "46\n",
            "47\n",
            "48\n",
            "49\n",
            "50\n",
            "51\n",
            "52\n",
            "53\n",
            "54\n",
            "55\n",
            "56\n",
            "57\n",
            "58\n",
            "59\n",
            "60\n",
            "61\n",
            "62\n",
            "63\n",
            "64\n",
            "65\n",
            "66\n",
            "67\n",
            "68\n",
            "69\n",
            "70\n",
            "71\n",
            "72\n",
            "73\n",
            "74\n",
            "75\n",
            "76\n",
            "77\n",
            "78\n",
            "79\n",
            "80\n",
            "81\n",
            "82\n",
            "83\n",
            "84\n",
            "85\n",
            "86\n",
            "87\n",
            "88\n",
            "89\n",
            "90\n",
            "91\n",
            "92\n",
            "93\n",
            "94\n",
            "95\n",
            "96\n",
            "97\n",
            "98\n",
            "99\n",
            "Odd: 50\n",
            "Even : 49\n"
          ]
        }
      ]
    },
    {
      "cell_type": "markdown",
      "source": [
        "Compute the factorial of a given number. b) Compute GCD of two given numbers. c) Generate Fibonacci series up to N numbers"
      ],
      "metadata": {
        "id": "CUxppis0vytT"
      }
    },
    {
      "cell_type": "code",
      "source": [
        "num =int(input())\n",
        "factorial = 1\n",
        "for i in range(1,num + 1):\n",
        " factorial = factorial*i\n",
        "print(\"The factorial of\",num,\"is\",factorial)\n",
        "\n",
        "def gcdfun (x, y):  \n",
        "    if (y == 0): \n",
        "        return x  \n",
        "    else:  \n",
        "        return gcdfun (y, x % y)  \n",
        "x =int (input ())    \n",
        "y =int (input ())  \n",
        "num = gcdfun(x, y) \n",
        "print(\"GCD of two number is: \")  \n",
        "print(num)\n"
      ],
      "metadata": {
        "colab": {
          "base_uri": "https://localhost:8080/"
        },
        "id": "ZFT5fg_8v4aR",
        "outputId": "4465d46d-b38a-4403-c7d8-5d13cff87a16"
      },
      "execution_count": 4,
      "outputs": [
        {
          "output_type": "stream",
          "name": "stdout",
          "text": [
            "49\n",
            "The factorial of 49 is 608281864034267560872252163321295376887552831379210240000000000\n",
            "452\n",
            "542\n",
            "GCD of two number is: \n",
            "2\n"
          ]
        }
      ]
    },
    {
      "cell_type": "markdown",
      "source": [
        "Check whether the given input is a) palindrome b) strong c) perfect"
      ],
      "metadata": {
        "id": "l40j1WaDwFjQ"
      }
    },
    {
      "cell_type": "code",
      "source": [
        "n=int(input())\n",
        "temp=n\n",
        "rev=0\n",
        "while(n>0):\n",
        "    dig=n%10\n",
        "    rev=rev*10+dig\n",
        "    n=n//10\n",
        "if(temp==rev):\n",
        "    print(\"The number is a palindrome\")\n",
        "else:\n",
        "    print(\"The number isn't a palindrome!\")\n",
        "\n",
        "#strong number\n",
        "sum1=0\n",
        "temp=n\n",
        "while(n):\n",
        "    i=1\n",
        "    f=1\n",
        "    r=n%10\n",
        "    while(i<=r):\n",
        "        f=f*i\n",
        "        i=i+1\n",
        "    sum1=sum1+f\n",
        "    n=n//10\n",
        "if(sum1==temp):\n",
        "    print(\"The number is a strong number\")\n",
        "else:\n",
        "    print(\"The number is not a strong number!\")\n",
        "\n",
        "#perfect number\n",
        "sum1 = 0\n",
        "for i in range(1, n):\n",
        "    if(n % i == 0):\n",
        "        sum1 = sum1 + i\n",
        "if (sum1 == n):\n",
        "    print(\"The number is a Perfect number\")\n",
        "else:\n",
        "    print(\"The number is not a Perfect number!\")"
      ],
      "metadata": {
        "colab": {
          "base_uri": "https://localhost:8080/"
        },
        "id": "sZs5FLL6wJy8",
        "outputId": "1afaea45-44d2-4bf5-9da8-66ba1f6fd7bb"
      },
      "execution_count": 5,
      "outputs": [
        {
          "output_type": "stream",
          "name": "stdout",
          "text": [
            "51\n",
            "The number isn't a palindrome!\n",
            "The number is a strong number\n",
            "The number is a Perfect number\n"
          ]
        }
      ]
    },
    {
      "cell_type": "markdown",
      "source": [
        "Compute compound interest using loop for a certain principal and interest amount"
      ],
      "metadata": {
        "id": "Z7v_NmOEwa3w"
      }
    },
    {
      "cell_type": "code",
      "source": [
        "p = float(input(\"Enter the principal amount : \"))\n",
        "t = float(input(\"Enter the number of years : \"))\n",
        "r = float(input(\"Enter the rate of interest : \"))\n",
        "ci =  p * (pow((1 + r / 100), t))\n",
        "print(\"Compound interest : {}\".format(ci))"
      ],
      "metadata": {
        "colab": {
          "base_uri": "https://localhost:8080/"
        },
        "id": "oKU2iXlowbVL",
        "outputId": "64f08f94-8d66-47f1-a68c-9bc8d2f4062a"
      },
      "execution_count": 6,
      "outputs": [
        {
          "output_type": "stream",
          "name": "stdout",
          "text": [
            "Enter the principal amount : 123\n",
            "Enter the number of years : 15\n",
            "Enter the rate of interest : 12\n",
            "Compound interest : 673.2485883886166\n"
          ]
        }
      ]
    }
  ]
}