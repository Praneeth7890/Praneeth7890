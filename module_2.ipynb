{
  "nbformat": 4,
  "nbformat_minor": 0,
  "metadata": {
    "colab": {
      "name": "module 2.ipynb",
      "provenance": [],
      "authorship_tag": "ABX9TyNgO12QQWQ/qPvWglW3iQni",
      "include_colab_link": true
    },
    "kernelspec": {
      "name": "python3",
      "display_name": "Python 3"
    },
    "language_info": {
      "name": "python"
    }
  },
  "cells": [
    {
      "cell_type": "markdown",
      "metadata": {
        "id": "view-in-github",
        "colab_type": "text"
      },
      "source": [
        "<a href=\"https://colab.research.google.com/github/Praneeth7890/Praneeth7890/blob/main/module_2.ipynb\" target=\"_parent\"><img src=\"https://colab.research.google.com/assets/colab-badge.svg\" alt=\"Open In Colab\"/></a>"
      ]
    },
    {
      "cell_type": "markdown",
      "source": [
        "1.Create a function which accepts two inputs from the user and compute nCr"
      ],
      "metadata": {
        "id": "kUC9eUCMpRcy"
      }
    },
    {
      "cell_type": "code",
      "source": [
        "def nCr(n, r):\n",
        " \n",
        "    return (fact(n) / (fact(r)\n",
        "                * fact(n - r)))\n",
        " \n",
        "def fact(n):\n",
        " \n",
        "    res = 1\n",
        "     \n",
        "    for i in range(2, n+1):\n",
        "        res = res * i\n",
        "         \n",
        "    return res\n",
        "n = 5\n",
        "r = 3\n",
        "print(int(nCr(n, r)))"
      ],
      "metadata": {
        "id": "GTeZvnIYpZEq",
        "colab": {
          "base_uri": "https://localhost:8080/"
        },
        "outputId": "fa13cb10-1a18-4c5d-d7c1-cc268f5daf6f"
      },
      "execution_count": null,
      "outputs": [
        {
          "output_type": "stream",
          "name": "stdout",
          "text": [
            "10\n"
          ]
        }
      ]
    },
    {
      "cell_type": "markdown",
      "source": [
        "2.x Program to print a specified list after removing the 0th, 4th and 5th elements.\n",
        "Sample List : ['Red', 'Green', 'White', 'Black', 'Pink', 'Yellow']\n",
        "Expected Output : ['Green', 'White', 'Black']"
      ],
      "metadata": {
        "id": "Han3MWVTsmz1"
      }
    },
    {
      "cell_type": "code",
      "source": [
        "x=[\"red\",\"green\",\"white\",\"black\",\"pink\",\"yellow\"]\n",
        "x.pop(0)\n",
        "x.pop(3)\n",
        "x.pop(3)\n",
        "print(x)"
      ],
      "metadata": {
        "colab": {
          "base_uri": "https://localhost:8080/"
        },
        "id": "MHOIpt5AsoR7",
        "outputId": "410e0e61-af51-445b-82ba-77f2be7710ef"
      },
      "execution_count": 21,
      "outputs": [
        {
          "output_type": "stream",
          "name": "stdout",
          "text": [
            "['green', 'white', 'black']\n"
          ]
        }
      ]
    },
    {
      "cell_type": "markdown",
      "source": [
        "3.Program to get the difference between the two lists"
      ],
      "metadata": {
        "id": "odTDPHnTw7G-"
      }
    },
    {
      "cell_type": "code",
      "source": [
        "x=[\"rrr\",\"radheshyam\",\"beast\",\"kgf\"]\n",
        "y=[\"bahubali\",\"sahoo\",\"akhanda\",\"beast\"]\n",
        "difxandy=list(set(x)-set(y))\n",
        "print(difxandy)\n"
      ],
      "metadata": {
        "id": "k8n7uYRkth6U",
        "colab": {
          "base_uri": "https://localhost:8080/"
        },
        "outputId": "f66f8861-618d-4a61-e3f1-4e6bab510dc4"
      },
      "execution_count": 25,
      "outputs": [
        {
          "output_type": "stream",
          "name": "stdout",
          "text": [
            "['radheshyam', 'kgf', 'rrr']\n"
          ]
        }
      ]
    },
    {
      "cell_type": "markdown",
      "source": [
        "4.Program to find the second smallest number and second largest number in a list"
      ],
      "metadata": {
        "id": "tC3F-WjXz7yd"
      }
    },
    {
      "cell_type": "code",
      "source": [
        ""
      ],
      "metadata": {
        "id": "5ipRTdPH0JOM"
      },
      "execution_count": null,
      "outputs": []
    }
  ]
}